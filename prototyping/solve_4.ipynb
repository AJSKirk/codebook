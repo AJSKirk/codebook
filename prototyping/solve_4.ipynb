{
 "cells": [
  {
   "cell_type": "code",
   "execution_count": 1,
   "metadata": {
    "collapsed": true
   },
   "outputs": [
    {
     "name": "stdout",
     "output_type": "stream",
     "text": [
      "\u001b[31mK\u001b[0m\u001b[31mQ\u001b[0m\u001b[31mO\u001b[0m\u001b[31mW\u001b[0m\u001b[31mE\u001b[0m\u001b[31mF\u001b[0m\u001b[31mV\u001b[0m\u001b[31mJ\u001b[0m\u001b[31mP\u001b[0m\u001b[31mU\u001b[0m\u001b[31mJ\u001b[0m\u001b[31mU\u001b[0m\u001b[31mU\u001b[0m\u001b[31mN\u001b[0m\u001b[31mU\u001b[0m\u001b[31mK\u001b[0m\u001b[31mG\u001b[0m\u001b[31mL\u001b[0m\u001b[31mM\u001b[0m\u001b[31mE\u001b[0m\u001b[31mK\u001b[0m\u001b[31mJ\u001b[0m\u001b[31mI\u001b[0m\u001b[31mN\u001b[0m\u001b[31mM\u001b[0m\u001b[31mW\u001b[0m\u001b[31mU\u001b[0m\u001b[31mX\u001b[0m\u001b[31mF\u001b[0m\u001b[31mQ\u001b[0m\u001b[31mM\u001b[0m\u001b[31mK\u001b[0m\u001b[31mJ\u001b[0m\u001b[31mB\u001b[0m\u001b[31mG\u001b[0m\u001b[31mW\u001b[0m\u001b[31mR\u001b[0m\u001b[31mL\u001b[0m\u001b[31mF\u001b[0m\u001b[31mN\u001b[0m\u001b[31mF\u001b[0m\u001b[31mG\u001b[0m\u001b[31mH\u001b[0m\u001b[31mU\u001b[0m\u001b[31mD\u001b[0m\u001b[31mW\u001b[0m\u001b[31mU\u001b[0m\u001b[31mU\u001b[0m\u001b[31mM\u001b[0m\u001b[31mB\u001b[0m\u001b[31mS\u001b[0m\u001b[31mV\u001b[0m\u001b[31mL\u001b[0m\u001b[31mP\u001b[0m\u001b[31mS\u001b[0m\u001b[31mN\u001b[0m\u001b[31mC\u001b[0m\u001b[31mM\u001b[0m\u001b[31mU\u001b[0m\u001b[31mE\u001b[0m\u001b[31mK\u001b[0m\u001b[31mQ\u001b[0m\u001b[31mC\u001b[0m\u001b[31mT\u001b[0m\u001b[31mE\u001b[0m\u001b[31mS\u001b[0m\u001b[31mW\u001b[0m\u001b[31mR\u001b[0m\u001b[31mE\u001b[0m\u001b[31mE\u001b[0m\u001b[31mK\u001b[0m\u001b[31mO\u001b[0m\u001b[31mY\u001b[0m\u001b[31mS\u001b[0m\u001b[31mS\u001b[0m\u001b[31mI\u001b[0m\u001b[31mW\u001b[0m\u001b[31mC\u001b[0m\u001b[31mT\u001b[0m\u001b[31mU\u001b[0m\u001b[31mA\u001b[0m\u001b[31mX\u001b[0m\u001b[31mY\u001b[0m\u001b[31mO\u001b[0m\u001b[31mT\u001b[0m\u001b[31mA\u001b[0m\u001b[31mP\u001b[0m\u001b[31mX\u001b[0m\u001b[31mP\u001b[0m\u001b[31mL\u001b[0m\u001b[31mW\u001b[0m\u001b[31mP\u001b[0m\u001b[31mN\u001b[0m\u001b[31mT\u001b[0m\u001b[31mC\u001b[0m\u001b[31mG\u001b[0m\u001b[31mO\u001b[0m\u001b[31mJ\u001b[0m\u001b[31mB\u001b[0m\u001b[31mG\u001b[0m\u001b[31mF\u001b[0m\u001b[31mQ\u001b[0m\u001b[31mH\u001b[0m\u001b[31mT\u001b[0m\u001b[31mD\u001b[0m\u001b[31mW\u001b[0m\u001b[31mX\u001b[0m\u001b[31mI\u001b[0m\u001b[31mZ\u001b[0m\u001b[31mA\u001b[0m\u001b[31mY\u001b[0m\u001b[31mG\u001b[0m\u001b[31mF\u001b[0m\u001b[31mF\u001b[0m\u001b[31mN\u001b[0m\u001b[31mS\u001b[0m\u001b[31mX\u001b[0m\u001b[31mC\u001b[0m\u001b[31mS\u001b[0m\u001b[31mE\u001b[0m\u001b[31mY\u001b[0m\u001b[31mN\u001b[0m\u001b[31mC\u001b[0m\u001b[31mT\u001b[0m\u001b[31mS\u001b[0m\u001b[31mS\u001b[0m\u001b[31mP\u001b[0m\u001b[31mN\u001b[0m\u001b[31mT\u001b[0m\u001b[31mU\u001b[0m\u001b[31mJ\u001b[0m\u001b[31mN\u001b[0m\u001b[31mY\u001b[0m\u001b[31mT\u001b[0m\u001b[31mG\u001b[0m\u001b[31mG\u001b[0m\u001b[31mW\u001b[0m\u001b[31mZ\u001b[0m\u001b[31mG\u001b[0m\u001b[31mR\u001b[0m\u001b[31mW\u001b[0m\u001b[31mU\u001b[0m\u001b[31mU\u001b[0m\u001b[31mN\u001b[0m\u001b[31mE\u001b[0m\u001b[31mJ\u001b[0m\u001b[31mU\u001b[0m\u001b[31mU\u001b[0m\u001b[31mQ\u001b[0m\u001b[31mE\u001b[0m\u001b[31mA\u001b[0m\u001b[31mP\u001b[0m\u001b[31mY\u001b[0m\u001b[31mM\u001b[0m\u001b[31mE\u001b[0m\u001b[31mK\u001b[0m\u001b[31mQ\u001b[0m\u001b[31mH\u001b[0m\u001b[31mU\u001b[0m\u001b[31mI\u001b[0m\u001b[31mD\u001b[0m\u001b[31mU\u001b[0m\u001b[31mX\u001b[0m\u001b[31mF\u001b[0m\u001b[31mP\u001b[0m\u001b[31mG\u001b[0m\u001b[31mU\u001b[0m\u001b[31mY\u001b[0m\u001b[31mT\u001b[0m\u001b[31mS\u001b[0m\u001b[31mM\u001b[0m\u001b[31mT\u001b[0m\u001b[31mF\u001b[0m\u001b[31mF\u001b[0m\u001b[31mS\u001b[0m\u001b[31mH\u001b[0m\u001b[31mN\u001b[0m\u001b[31mU\u001b[0m\u001b[31mO\u001b[0m\u001b[31mC\u001b[0m\u001b[31mZ\u001b[0m\u001b[31mG\u001b[0m\u001b[31mM\u001b[0m\u001b[31mR\u001b[0m\u001b[31mU\u001b[0m\u001b[31mW\u001b[0m\u001b[31mE\u001b[0m\u001b[31mY\u001b[0m\u001b[31mT\u001b[0m\u001b[31mR\u001b[0m\u001b[31mG\u001b[0m\u001b[31mK\u001b[0m\u001b[31mM\u001b[0m\u001b[31mE\u001b[0m\u001b[31mE\u001b[0m\u001b[31mD\u001b[0m\u001b[31mC\u001b[0m\u001b[31mT\u001b[0m\u001b[31mV\u001b[0m\u001b[31mR\u001b[0m\u001b[31mE\u001b[0m\u001b[31mC\u001b[0m\u001b[31mF\u001b[0m\u001b[31mB\u001b[0m\u001b[31mD\u001b[0m\u001b[31mJ\u001b[0m\u001b[31mQ\u001b[0m\u001b[31mC\u001b[0m\u001b[31mU\u001b[0m\u001b[31mS\u001b[0m\u001b[31mW\u001b[0m\u001b[31mV\u001b[0m\u001b[31mB\u001b[0m\u001b[31mP\u001b[0m\u001b[31mN\u001b[0m\u001b[31mL\u001b[0m\u001b[31mG\u001b[0m\u001b[31mO\u001b[0m\u001b[31mY\u001b[0m\u001b[31mL\u001b[0m\u001b[31mS\u001b[0m\u001b[31mK\u001b[0m\u001b[31mM\u001b[0m\u001b[31mT\u001b[0m\u001b[31mE\u001b[0m\u001b[31mF\u001b[0m\u001b[31mV\u001b[0m\u001b[31mJ\u001b[0m\u001b[31mJ\u001b[0m\u001b[31mT\u001b[0m\u001b[31mW\u001b[0m\u001b[31mW\u001b[0m\u001b[31mM\u001b[0m\u001b[31mF\u001b[0m\u001b[31mM\u001b[0m\u001b[31mW\u001b[0m\u001b[31mP\u001b[0m\u001b[31mN\u001b[0m\u001b[31mM\u001b[0m\u001b[31mE\u001b[0m\u001b[31mM\u001b[0m\u001b[31mT\u001b[0m\u001b[31mM\u001b[0m\u001b[31mH\u001b[0m\u001b[31mR\u001b[0m\u001b[31mS\u001b[0m\u001b[31mP\u001b[0m\u001b[31mX\u001b[0m\u001b[31mF\u001b[0m\u001b[31mS\u001b[0m\u001b[31mS\u001b[0m\u001b[31mK\u001b[0m\u001b[31mF\u001b[0m\u001b[31mF\u001b[0m\u001b[31mS\u001b[0m\u001b[31mT\u001b[0m\u001b[31mN\u001b[0m\u001b[31mU\u001b[0m\u001b[31mO\u001b[0m\u001b[31mC\u001b[0m\u001b[31mZ\u001b[0m\u001b[31mG\u001b[0m\u001b[31mM\u001b[0m\u001b[31mD\u001b[0m\u001b[31mO\u001b[0m\u001b[31mE\u001b[0m\u001b[31mO\u001b[0m\u001b[31mY\u001b[0m\u001b[31mE\u001b[0m\u001b[31mE\u001b[0m\u001b[31mK\u001b[0m\u001b[31mC\u001b[0m\u001b[31mP\u001b[0m\u001b[31mJ\u001b[0m\u001b[31mR\u001b[0m\u001b[31mG\u001b[0m\u001b[31mP\u001b[0m\u001b[31mM\u001b[0m\u001b[31mU\u001b[0m\u001b[31mR\u001b[0m\u001b[31mS\u001b[0m\u001b[31mK\u001b[0m\u001b[31mH\u001b[0m\u001b[31mF\u001b[0m\u001b[31mR\u001b[0m\u001b[31mS\u001b[0m\u001b[31mE\u001b[0m\u001b[31mI\u001b[0m\u001b[31mU\u001b[0m\u001b[31mE\u001b[0m\u001b[31mV\u001b[0m\u001b[31mG\u001b[0m\u001b[31mO\u001b[0m\u001b[31mY\u001b[0m\u001b[31mC\u001b[0m\u001b[31mW\u001b[0m\u001b[31mX\u001b[0m\u001b[31mI\u001b[0m\u001b[31mZ\u001b[0m\u001b[31mA\u001b[0m\u001b[31mY\u001b[0m\u001b[31mG\u001b[0m\u001b[31mO\u001b[0m\u001b[31mS\u001b[0m\u001b[31mA\u001b[0m\u001b[31mA\u001b[0m\u001b[31mN\u001b[0m\u001b[31mY\u001b[0m\u001b[31mD\u001b[0m\u001b[31mO\u001b[0m\u001b[31mE\u001b[0m\u001b[31mO\u001b[0m\u001b[31mY\u001b[0m\u001b[31mJ\u001b[0m\u001b[31mL\u001b[0m\u001b[31mW\u001b[0m\u001b[31mU\u001b[0m\u001b[31mN\u001b[0m\u001b[31mH\u001b[0m\u001b[31mA\u001b[0m\u001b[31mM\u001b[0m\u001b[31mE\u001b[0m\u001b[31mB\u001b[0m\u001b[31mF\u001b[0m\u001b[31mE\u001b[0m\u001b[31mL\u001b[0m\u001b[31mX\u001b[0m\u001b[31mY\u001b[0m\u001b[31mV\u001b[0m\u001b[31mL\u001b[0m\u001b[31mW\u001b[0m\u001b[31mN\u001b[0m\u001b[31mO\u001b[0m\u001b[31mJ\u001b[0m\u001b[31mN\u001b[0m\u001b[31mS\u001b[0m\u001b[31mI\u001b[0m\u001b[31mO\u001b[0m\u001b[31mF\u001b[0m\u001b[31mR\u001b[0m\u001b[31mW\u001b[0m\u001b[31mU\u001b[0m\u001b[31mC\u001b[0m\u001b[31mC\u001b[0m\u001b[31mE\u001b[0m\u001b[31mS\u001b[0m\u001b[31mW\u001b[0m\u001b[31mK\u001b[0m\u001b[31mV\u001b[0m\u001b[31mI\u001b[0m\u001b[31mD\u001b[0m\u001b[31mG\u001b[0m\u001b[31mM\u001b[0m\u001b[31mU\u001b[0m\u001b[31mC\u001b[0m\u001b[31mG\u001b[0m\u001b[31mO\u001b[0m\u001b[31mC\u001b[0m\u001b[31mR\u001b[0m\u001b[31mU\u001b[0m\u001b[31mW\u001b[0m\u001b[31mG\u001b[0m\u001b[31mN\u001b[0m\u001b[31mM\u001b[0m\u001b[31mA\u001b[0m\u001b[31mA\u001b[0m\u001b[31mF\u001b[0m\u001b[31mF\u001b[0m\u001b[31mV\u001b[0m\u001b[31mN\u001b[0m\u001b[31mS\u001b[0m\u001b[31mI\u001b[0m\u001b[31mU\u001b[0m\u001b[31mD\u001b[0m\u001b[31mE\u001b[0m\u001b[31mK\u001b[0m\u001b[31mQ\u001b[0m\u001b[31mH\u001b[0m\u001b[31mC\u001b[0m\u001b[31mE\u001b[0m\u001b[31mU\u001b[0m\u001b[31mC\u001b[0m\u001b[31mP\u001b[0m\u001b[31mF\u001b[0m\u001b[31mC\u001b[0m\u001b[31mM\u001b[0m\u001b[31mP\u001b[0m\u001b[31mV\u001b[0m\u001b[31mS\u001b[0m\u001b[31mU\u001b[0m\u001b[31mD\u001b[0m\u001b[31mG\u001b[0m\u001b[31mA\u001b[0m\u001b[31mV\u001b[0m\u001b[31mE\u001b[0m\u001b[31mM\u001b[0m\u001b[31mN\u001b[0m\u001b[31mY\u001b[0m\u001b[31mM\u001b[0m\u001b[31mA\u001b[0m\u001b[31mM\u001b[0m\u001b[31mV\u001b[0m\u001b[31mL\u001b[0m\u001b[31mF\u001b[0m\u001b[31mM\u001b[0m\u001b[31mA\u001b[0m\u001b[31mO\u001b[0m\u001b[31mY\u001b[0m\u001b[31mF\u001b[0m\u001b[31mN\u001b[0m\u001b[31mT\u001b[0m\u001b[31mQ\u001b[0m\u001b[31mC\u001b[0m\u001b[31mU\u001b[0m\u001b[31mA\u001b[0m\u001b[31mF\u001b[0m\u001b[31mV\u001b[0m\u001b[31mF\u001b[0m\u001b[31mJ\u001b[0m\u001b[31mN\u001b[0m\u001b[31mX\u001b[0m\u001b[31mK\u001b[0m\u001b[31mL\u001b[0m\u001b[31mN\u001b[0m\u001b[31mE\u001b[0m\u001b[31mI\u001b[0m\u001b[31mW\u001b[0m\u001b[31mC\u001b[0m\u001b[31mW\u001b[0m\u001b[31mO\u001b[0m\u001b[31mD\u001b[0m\u001b[31mC\u001b[0m\u001b[31mC\u001b[0m\u001b[31mU\u001b[0m\u001b[31mL\u001b[0m\u001b[31mW\u001b[0m\u001b[31mR\u001b[0m\u001b[31mI\u001b[0m\u001b[31mF\u001b[0m\u001b[31mT\u001b[0m\u001b[31mW\u001b[0m\u001b[31mG\u001b[0m\u001b[31mM\u001b[0m\u001b[31mU\u001b[0m\u001b[31mS\u001b[0m\u001b[31mW\u001b[0m\u001b[31mO\u001b[0m\u001b[31mV\u001b[0m\u001b[31mM\u001b[0m\u001b[31mA\u001b[0m\u001b[31mT\u001b[0m\u001b[31mN\u001b[0m\u001b[31mY\u001b[0m\u001b[31mB\u001b[0m\u001b[31mU\u001b[0m\u001b[31mH\u001b[0m\u001b[31mT\u001b[0m\u001b[31mC\u001b[0m\u001b[31mO\u001b[0m\u001b[31mC\u001b[0m\u001b[31mW\u001b[0m\u001b[31mF\u001b[0m\u001b[31mY\u001b[0m\u001b[31mT\u001b[0m\u001b[31mN\u001b[0m\u001b[31mM\u001b[0m\u001b[31mG\u001b[0m\u001b[31mY\u001b[0m\u001b[31mT\u001b[0m\u001b[31mQ\u001b[0m\u001b[31mM\u001b[0m\u001b[31mK\u001b[0m\u001b[31mB\u001b[0m\u001b[31mB\u001b[0m\u001b[31mN\u001b[0m\u001b[31mL\u001b[0m\u001b[31mG\u001b[0m\u001b[31mF\u001b[0m\u001b[31mB\u001b[0m\u001b[31mT\u001b[0m\u001b[31mW\u001b[0m\u001b[31mO\u001b[0m\u001b[31mJ\u001b[0m\u001b[31mF\u001b[0m\u001b[31mT\u001b[0m\u001b[31mW\u001b[0m\u001b[31mG\u001b[0m\u001b[31mN\u001b[0m\u001b[31mT\u001b[0m\u001b[31mE\u001b[0m\u001b[31mJ\u001b[0m\u001b[31mK\u001b[0m\u001b[31mN\u001b[0m\u001b[31mE\u001b[0m\u001b[31mE\u001b[0m\u001b[31mD\u001b[0m\u001b[31mC\u001b[0m\u001b[31mL\u001b[0m\u001b[31mD\u001b[0m\u001b[31mH\u001b[0m\u001b[31mW\u001b[0m\u001b[31mT\u001b[0m\u001b[31mV\u001b[0m\u001b[31mB\u001b[0m\u001b[31mU\u001b[0m\u001b[31mV\u001b[0m\u001b[31mG\u001b[0m\u001b[31mF\u001b[0m\u001b[31mB\u001b[0m\u001b[31mI\u001b[0m\u001b[31mJ\u001b[0m\u001b[31mG\u001b[0m\u001b[31mY\u001b[0m\u001b[31mY\u001b[0m\u001b[31mI\u001b[0m\u001b[31mD\u001b[0m\u001b[31mG\u001b[0m\u001b[31mM\u001b[0m\u001b[31mV\u001b[0m\u001b[31mR\u001b[0m\u001b[31mD\u001b[0m\u001b[31mG\u001b[0m\u001b[31mM\u001b[0m\u001b[31mP\u001b[0m\u001b[31mL\u001b[0m\u001b[31mS\u001b[0m\u001b[31mW\u001b[0m\u001b[31mG\u001b[0m\u001b[31mJ\u001b[0m\u001b[31mL\u001b[0m\u001b[31mA\u001b[0m\u001b[31mG\u001b[0m\u001b[31mO\u001b[0m\u001b[31mE\u001b[0m\u001b[31mE\u001b[0m\u001b[31mK\u001b[0m\u001b[31mJ\u001b[0m\u001b[31mO\u001b[0m\u001b[31mF\u001b[0m\u001b[31mE\u001b[0m\u001b[31mK\u001b[0m\u001b[31mN\u001b[0m\u001b[31mY\u001b[0m\u001b[31mN\u001b[0m\u001b[31mO\u001b[0m\u001b[31mL\u001b[0m\u001b[31mR\u001b[0m\u001b[31mI\u001b[0m\u001b[31mV\u001b[0m\u001b[31mR\u001b[0m\u001b[31mW\u001b[0m\u001b[31mV\u001b[0m\u001b[31mU\u001b[0m\u001b[31mH\u001b[0m\u001b[31mE\u001b[0m\u001b[31mI\u001b[0m\u001b[31mW\u001b[0m\u001b[31mU\u001b[0m\u001b[31mU\u001b[0m\u001b[31mR\u001b[0m\u001b[31mW\u001b[0m\u001b[31mG\u001b[0m\u001b[31mM\u001b[0m\u001b[31mU\u001b[0m\u001b[31mT\u001b[0m\u001b[31mJ\u001b[0m\u001b[31mC\u001b[0m\u001b[31mD\u001b[0m\u001b[31mB\u001b[0m\u001b[31mN\u001b[0m\u001b[31mK\u001b[0m\u001b[31mG\u001b[0m\u001b[31mM\u001b[0m\u001b[31mB\u001b[0m\u001b[31mI\u001b[0m\u001b[31mD\u001b[0m\u001b[31mG\u001b[0m\u001b[31mM\u001b[0m\u001b[31mE\u001b[0m\u001b[31mE\u001b[0m\u001b[31mY\u001b[0m\u001b[31mG\u001b[0m\u001b[31mU\u001b[0m\u001b[31mO\u001b[0m\u001b[31mT\u001b[0m\u001b[31mD\u001b[0m\u001b[31mG\u001b[0m\u001b[31mG\u001b[0m\u001b[31mQ\u001b[0m\u001b[31mE\u001b[0m\u001b[31mU\u001b[0m\u001b[31mJ\u001b[0m\u001b[31mY\u001b[0m\u001b[31mO\u001b[0m\u001b[31mT\u001b[0m\u001b[31mV\u001b[0m\u001b[31mG\u001b[0m\u001b[31mG\u001b[0m\u001b[31mB\u001b[0m\u001b[31mR\u001b[0m\u001b[31mU\u001b[0m\u001b[31mJ\u001b[0m\u001b[31mY\u001b[0m\u001b[31mS\u001b[0m\n"
     ]
    }
   ],
   "source": [
    "import decode\n",
    "import re\n",
    "\n",
    "with open('data/stage_4_vigenere.txt') as f:\n",
    "    text = f.read().strip().upper()\n",
    "    ciphertext = decode.VigenereCiphertext(re.sub('[ \\n]', '', text))\n",
    "\n",
    "print(ciphertext)"
   ]
  },
  {
   "cell_type": "code",
   "execution_count": 5,
   "metadata": {},
   "outputs": [
    {
     "data": {
      "text/plain": [
       "[('WXIZAY', [105, 295]),\n ('XIZAYG', [106, 296]),\n ('NUOCZG', [176, 256]),\n ('UOCZGM', [177, 257])]"
      ]
     },
     "execution_count": 5,
     "metadata": {},
     "output_type": "execute_result"
    }
   ],
   "source": [
    "ciphertext.repeated_patterns(6)"
   ]
  },
  {
   "cell_type": "code",
   "execution_count": 7,
   "metadata": {},
   "outputs": [
    {
     "data": {
      "text/plain": [
       "[('IDGM', [349, 514, 574]),\n ('EFVJ', [4, 224]),\n ('WXIZ', [105, 295]),\n ('XIZA', [106, 296]),\n ('IZAY', [107, 297]),\n ('ZAYG', [108, 298]),\n ('EKQH', [154, 374]),\n ('NUOC', [176, 256]),\n ('UOCZ', [177, 257]),\n ('OCZG', [178, 258]),\n ('CZGM', [179, 259]),\n ('EEDC', [193, 493]),\n ('DOEO', [263, 308]),\n ('OEOY', [264, 309]),\n ('FTWG', [438, 483]),\n ('WGMU', [440, 560])]"
      ]
     },
     "execution_count": 7,
     "metadata": {},
     "output_type": "execute_result"
    }
   ],
   "source": [
    "# Seeing 80s and 90s there, good evidence for a key length of 5 or 10\n",
    "ciphertext.repeated_patterns(4)"
   ]
  },
  {
   "cell_type": "code",
   "execution_count": null,
   "metadata": {},
   "outputs": [],
   "source": []
  }
 ],
 "metadata": {
  "kernelspec": {
   "display_name": "Python 2",
   "language": "python",
   "name": "python2"
  },
  "language_info": {
   "codemirror_mode": {
    "name": "ipython",
    "version": 2
   },
   "file_extension": ".py",
   "mimetype": "text/x-python",
   "name": "python",
   "nbconvert_exporter": "python",
   "pygments_lexer": "ipython2",
   "version": "2.7.6"
  }
 },
 "nbformat": 4,
 "nbformat_minor": 0
}
